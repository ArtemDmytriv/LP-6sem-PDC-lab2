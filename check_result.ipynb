{
 "cells": [
  {
   "cell_type": "code",
   "execution_count": 8,
   "id": "virgin-civilian",
   "metadata": {},
   "outputs": [],
   "source": [
    "import sympy as sp\n",
    "import numpy as np"
   ]
  },
  {
   "cell_type": "code",
   "execution_count": 18,
   "id": "hollywood-polyester",
   "metadata": {},
   "outputs": [],
   "source": [
    "def readMatrix(f, n):\n",
    "    mat = np.loadtxt(f, max_rows=n)\n",
    "    return sp.Matrix(mat)"
   ]
  },
  {
   "cell_type": "code",
   "execution_count": 21,
   "id": "interested-negative",
   "metadata": {},
   "outputs": [],
   "source": [
    "f = open(\"matrices.txt\", 'r')\n",
    "n = int(f.readline().split()[0]);\n",
    "\n",
    "A = readMatrix(f, n)\n",
    "bi = sp.Matrix([[8/i] for i in range(1, n+1)])\n",
    "\n",
    "A1 = readMatrix(f, n)\n",
    "b1 = readMatrix(f, n)\n",
    "c1 = readMatrix(f, n)\n",
    "\n",
    "A2 = readMatrix(f, n)\n",
    "B2 = readMatrix(f, n)\n",
    "C2 = sp.Matrix( [[ 1/(i + j + 2) for j in range(1, n + 1)] for i in range(1, n + 1)])"
   ]
  },
  {
   "cell_type": "code",
   "execution_count": 22,
   "id": "legitimate-diesel",
   "metadata": {},
   "outputs": [],
   "source": [
    "y1 = A*bi\n",
    "y2 = A1*(2*b1 + 3*c1)\n",
    "Y3 = A2*(B2 - C2)"
   ]
  },
  {
   "cell_type": "code",
   "execution_count": 25,
   "id": "chief-leadership",
   "metadata": {},
   "outputs": [],
   "source": [
    "res = (y1*(y1.T)*Y3*y2*(y2.T) + Y3**2 + y1*(y2.T))*(y1*(y2.T)*Y3*y2 + y1)"
   ]
  },
  {
   "cell_type": "code",
   "execution_count": 26,
   "id": "contemporary-retail",
   "metadata": {},
   "outputs": [
    {
     "data": {
      "text/latex": [
       "$\\displaystyle \\left[\\begin{matrix}1.32117394232503 \\cdot 10^{22}\\\\3.30293482455868 \\cdot 10^{22}\\end{matrix}\\right]$"
      ],
      "text/plain": [
       "Matrix([\n",
       "[1.32117394232503e+22],\n",
       "[3.30293482455868e+22]])"
      ]
     },
     "execution_count": 26,
     "metadata": {},
     "output_type": "execute_result"
    }
   ],
   "source": [
    "res"
   ]
  },
  {
   "cell_type": "code",
   "execution_count": null,
   "id": "congressional-transport",
   "metadata": {},
   "outputs": [],
   "source": []
  }
 ],
 "metadata": {
  "kernelspec": {
   "display_name": "Python 3",
   "language": "python",
   "name": "python3"
  },
  "language_info": {
   "codemirror_mode": {
    "name": "ipython",
    "version": 3
   },
   "file_extension": ".py",
   "mimetype": "text/x-python",
   "name": "python",
   "nbconvert_exporter": "python",
   "pygments_lexer": "ipython3",
   "version": "3.7.8"
  }
 },
 "nbformat": 4,
 "nbformat_minor": 5
}
